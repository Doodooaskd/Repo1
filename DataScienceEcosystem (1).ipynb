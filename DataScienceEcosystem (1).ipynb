{
 "cells": [
  {
   "cell_type": "markdown",
   "id": "f5330030-cd13-427e-acf0-916f70162ccc",
   "metadata": {},
   "source": [
    "# Data Science Tools and Ecosystem"
   ]
  },
  {
   "cell_type": "markdown",
   "id": "75d0f6c4-23c2-4cba-be6e-45676678247e",
   "metadata": {},
   "source": [
    "In this notebook, Data Science Tools and Ecosystem are summarized."
   ]
  },
  {
   "cell_type": "markdown",
   "id": "53b69deb-3671-4a56-baf9-ab3656e3fec2",
   "metadata": {},
   "source": [
    "**Objectives**\n",
    "* To become familiar with Jupyter Notebooks.\n",
    "* To understand Data visualization in a better way.\n",
    "* To perform live coding\n"
   ]
  },
  {
   "cell_type": "markdown",
   "id": "9a6de652-5dc5-4f76-a5b6-828e26e15ec6",
   "metadata": {},
   "source": [
    "#### Some of the popular languages that Data Scientists use are:\n",
    "1. Python\n",
    "2. SQL\n",
    "3. R"
   ]
  },
  {
   "cell_type": "markdown",
   "id": "02b7fed4-e0fe-4e41-a9ab-1cb909aace48",
   "metadata": {},
   "source": [
    "#### Some of the commonly used libraries used by Data Scientists include:\n",
    "* TensorFlow\n",
    "* Pandas\n",
    "* NumPy"
   ]
  },
  {
   "cell_type": "markdown",
   "id": "04fedfa6-3753-4b67-a9bc-97d6d9a0fea0",
   "metadata": {},
   "source": [
    "| Data Science Tools |\n",
    "| :---- | \n",
    "| Apache Spark |\n",
    "| TensorFlow |\n",
    "| Git |\n"
   ]
  },
  {
   "cell_type": "markdown",
   "id": "ed0192b0-0ee6-465d-829c-4a8fd54f4e41",
   "metadata": {},
   "source": [
    "### Below are a few examples of evaluating arithmetic expressions in Python.\n",
    "\n"
   ]
  },
  {
   "cell_type": "code",
   "execution_count": 3,
   "id": "861aa28e-f864-4a02-93ad-66901320a943",
   "metadata": {},
   "outputs": [
    {
     "name": "stdout",
     "output_type": "stream",
     "text": [
      "17\n"
     ]
    }
   ],
   "source": [
    "#This a simple arithmetic expression to mutiply then add integers.\n",
    "print((3 * 4) + 5)"
   ]
  },
  {
   "cell_type": "code",
   "execution_count": 4,
   "id": "6bae2126-b1ae-4ced-b0ff-b36a823e6008",
   "metadata": {},
   "outputs": [
    {
     "name": "stdout",
     "output_type": "stream",
     "text": [
      "3.3333333333333335\n"
     ]
    }
   ],
   "source": [
    "# This will convert 200 minutes to hours by diving by 60.\n",
    "total_minutes = 200\n",
    "minutes_in_hour = 60\n",
    "result = 200/60\n",
    "print(result)"
   ]
  },
  {
   "cell_type": "markdown",
   "id": "1e855717-6339-4ca0-9cec-a5669db0325d",
   "metadata": {},
   "source": [
    "## Author\n",
    "Yash Bhoir"
   ]
  },
  {
   "cell_type": "code",
   "execution_count": null,
   "id": "7946a654-8c8d-409a-9d71-caf3f51172e9",
   "metadata": {},
   "outputs": [],
   "source": []
  }
 ],
 "metadata": {
  "kernelspec": {
   "display_name": "Python 3 (ipykernel)",
   "language": "python",
   "name": "python3"
  },
  "language_info": {
   "codemirror_mode": {
    "name": "ipython",
    "version": 3
   },
   "file_extension": ".py",
   "mimetype": "text/x-python",
   "name": "python",
   "nbconvert_exporter": "python",
   "pygments_lexer": "ipython3",
   "version": "3.12.3"
  }
 },
 "nbformat": 4,
 "nbformat_minor": 5
}
